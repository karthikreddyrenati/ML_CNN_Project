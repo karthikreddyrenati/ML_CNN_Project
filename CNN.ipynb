{
  "nbformat": 4,
  "nbformat_minor": 0,
  "metadata": {
    "colab": {
      "provenance": [],
      "gpuType": "T4"
    },
    "kernelspec": {
      "name": "python3",
      "display_name": "Python 3"
    },
    "language_info": {
      "name": "python"
    },
    "accelerator": "GPU"
  },
  "cells": [
    {
      "cell_type": "markdown",
      "source": [
        "# **Code:**"
      ],
      "metadata": {
        "id": "KrWgeNeRnTpy"
      }
    },
    {
      "cell_type": "code",
      "source": [
        "#Importing required libraries\n",
        "import matplotlib.pyplot as plt\n",
        "import numpy as np\n",
        "from tensorflow.keras.models import Sequential\n",
        "from tensorflow.keras.layers import Dense, Flatten, Conv2D, MaxPooling2D\n",
        "from tensorflow.keras.utils import to_categorical\n",
        "from sklearn.model_selection import train_test_split"
      ],
      "metadata": {
        "id": "X4yyjD1snUgO"
      },
      "execution_count": 1,
      "outputs": []
    },
    {
      "cell_type": "markdown",
      "source": [
        "# **Loading dataset**"
      ],
      "metadata": {
        "id": "F-y4EdBCn_VF"
      }
    },
    {
      "cell_type": "code",
      "source": [
        "pip install ucimlrepo"
      ],
      "metadata": {
        "colab": {
          "base_uri": "https://localhost:8080/"
        },
        "id": "TEtsq344gqpu",
        "outputId": "ebbf8a52-4484-43d4-d69d-06ccece8baf4"
      },
      "execution_count": 2,
      "outputs": [
        {
          "output_type": "stream",
          "name": "stdout",
          "text": [
            "Collecting ucimlrepo\n",
            "  Downloading ucimlrepo-0.0.6-py3-none-any.whl (8.0 kB)\n",
            "Installing collected packages: ucimlrepo\n",
            "Successfully installed ucimlrepo-0.0.6\n"
          ]
        }
      ]
    },
    {
      "cell_type": "code",
      "source": [
        "#Loading dataset\n",
        "from ucimlrepo import fetch_ucirepo\n",
        "\n",
        "# fetch dataset\n",
        "optical_recognition_of_handwritten_digits = fetch_ucirepo(id=80)\n",
        "\n",
        "# data (as pandas dataframes)\n",
        "X = optical_recognition_of_handwritten_digits.data.features\n",
        "y = optical_recognition_of_handwritten_digits.data.targets\n",
        "\n",
        "# metadata\n",
        "print(optical_recognition_of_handwritten_digits.metadata)\n",
        "\n",
        "# variable information\n",
        "print(optical_recognition_of_handwritten_digits.variables)\n"
      ],
      "metadata": {
        "colab": {
          "base_uri": "https://localhost:8080/"
        },
        "id": "06Sfd2vqgxoQ",
        "outputId": "a2d2a7f1-9a92-4d73-cae2-5d1bf2002d2e"
      },
      "execution_count": 3,
      "outputs": [
        {
          "output_type": "stream",
          "name": "stdout",
          "text": [
            "{'uci_id': 80, 'name': 'Optical Recognition of Handwritten Digits', 'repository_url': 'https://archive.ics.uci.edu/dataset/80/optical+recognition+of+handwritten+digits', 'data_url': 'https://archive.ics.uci.edu/static/public/80/data.csv', 'abstract': 'Two versions of this database available; see folder', 'area': 'Computer Science', 'tasks': ['Classification'], 'characteristics': ['Multivariate'], 'num_instances': 5620, 'num_features': 64, 'feature_types': ['Integer'], 'demographics': [], 'target_col': ['class'], 'index_col': None, 'has_missing_values': 'no', 'missing_values_symbol': None, 'year_of_dataset_creation': 1998, 'last_updated': 'Wed Aug 23 2023', 'dataset_doi': '10.24432/C50P49', 'creators': ['E. Alpaydin', 'C. Kaynak'], 'intro_paper': {'title': 'Methods of Combining Multiple Classifiers and Their Applications to Handwritten Digit Recognition', 'authors': 'C. Kaynak', 'published_in': 'MSc Thesis, Institute of Graduate Studies in Science and Engineering, Bogazici University', 'year': 1995, 'url': None, 'doi': None}, 'additional_info': {'summary': 'We used preprocessing programs made available by NIST to extract normalized bitmaps of handwritten digits from a preprinted form. From a total of 43 people, 30 contributed to the training set and different 13 to the test set. 32x32 bitmaps are divided into nonoverlapping blocks of 4x4 and the number of on pixels are counted in each block. This generates an input matrix of 8x8 where each element is an integer in the range 0..16. This reduces dimensionality and gives invariance to small distortions.\\r\\n\\r\\nFor info on NIST preprocessing routines, see M. D. Garris, J. L. Blue, G. T. Candela, D. L. Dimmick, J. Geist, P. J. Grother, S. A. Janet, and C. L. Wilson, NIST Form-Based Handprint Recognition System, NISTIR 5469, 1994.', 'purpose': None, 'funded_by': None, 'instances_represent': None, 'recommended_data_splits': None, 'sensitive_data': None, 'preprocessing_description': None, 'variable_info': 'All input attributes are integers in the range 0..16.\\r\\nThe last attribute is the class code 0..9', 'citation': None}}\n",
            "           name     role         type demographic description units  \\\n",
            "0    Attribute1  Feature      Integer        None        None  None   \n",
            "1    Attribute2  Feature      Integer        None        None  None   \n",
            "2    Attribute3  Feature      Integer        None        None  None   \n",
            "3    Attribute4  Feature      Integer        None        None  None   \n",
            "4    Attribute5  Feature      Integer        None        None  None   \n",
            "..          ...      ...          ...         ...         ...   ...   \n",
            "60  Attribute61  Feature      Integer        None        None  None   \n",
            "61  Attribute62  Feature      Integer        None        None  None   \n",
            "62  Attribute63  Feature      Integer        None        None  None   \n",
            "63  Attribute64  Feature      Integer        None        None  None   \n",
            "64        class   Target  Categorical        None        None  None   \n",
            "\n",
            "   missing_values  \n",
            "0              no  \n",
            "1              no  \n",
            "2              no  \n",
            "3              no  \n",
            "4              no  \n",
            "..            ...  \n",
            "60             no  \n",
            "61             no  \n",
            "62             no  \n",
            "63             no  \n",
            "64             no  \n",
            "\n",
            "[65 rows x 7 columns]\n"
          ]
        }
      ]
    },
    {
      "cell_type": "markdown",
      "source": [
        "# **Data Preprocessing**"
      ],
      "metadata": {
        "id": "pVWOtpamoMpe"
      }
    },
    {
      "cell_type": "code",
      "source": [
        "#ptintng features dataframe\n",
        "print(X)"
      ],
      "metadata": {
        "colab": {
          "base_uri": "https://localhost:8080/"
        },
        "id": "MDDAxRkVGIDz",
        "outputId": "6db35a8b-e82e-4dca-ba11-f0d2e86b98e2"
      },
      "execution_count": 4,
      "outputs": [
        {
          "output_type": "stream",
          "name": "stdout",
          "text": [
            "      Attribute1  Attribute2  Attribute3  Attribute4  Attribute5  Attribute6  \\\n",
            "0              0           1           6          15          12           1   \n",
            "1              0           0          10          16           6           0   \n",
            "2              0           0           8          15          16          13   \n",
            "3              0           0           0           3          11          16   \n",
            "4              0           0           5          14           4           0   \n",
            "...          ...         ...         ...         ...         ...         ...   \n",
            "5615           0           0           4          10          13           6   \n",
            "5616           0           0           6          16          13          11   \n",
            "5617           0           0           1          11          15           1   \n",
            "5618           0           0           2          10           7           0   \n",
            "5619           0           0          10          14           8           1   \n",
            "\n",
            "      Attribute7  Attribute8  Attribute9  Attribute10  ...  Attribute55  \\\n",
            "0              0           0           0            7  ...            0   \n",
            "1              0           0           0            7  ...            3   \n",
            "2              0           0           0            1  ...            0   \n",
            "3              0           0           0            0  ...            0   \n",
            "4              0           0           0            0  ...           12   \n",
            "...          ...         ...         ...          ...  ...          ...   \n",
            "5615           0           0           0            1  ...            4   \n",
            "5616           1           0           0            0  ...            1   \n",
            "5617           0           0           0            0  ...            0   \n",
            "5618           0           0           0            0  ...            2   \n",
            "5619           0           0           0            2  ...            8   \n",
            "\n",
            "      Attribute56  Attribute57  Attribute58  Attribute59  Attribute60  \\\n",
            "0               0            0            0            6           14   \n",
            "1               0            0            0           10           16   \n",
            "2               0            0            0            9           14   \n",
            "3               0            0            0            0            1   \n",
            "4               0            0            0            4           12   \n",
            "...           ...          ...          ...          ...          ...   \n",
            "5615            0            0            0            2           14   \n",
            "5616            0            0            0            6           16   \n",
            "5617            0            0            0            2            9   \n",
            "5618            0            0            0            5           12   \n",
            "5619            0            0            1            8           12   \n",
            "\n",
            "      Attribute61  Attribute62  Attribute63  Attribute64  \n",
            "0               7            1            0            0  \n",
            "1              15            3            0            0  \n",
            "2               0            0            0            0  \n",
            "3              15            2            0            0  \n",
            "4              14            7            0            0  \n",
            "...           ...          ...          ...          ...  \n",
            "5615           15            9            0            0  \n",
            "5616           14            6            0            0  \n",
            "5617           13            6            0            0  \n",
            "5618           16           12            0            0  \n",
            "5619           14           12            1            0  \n",
            "\n",
            "[5620 rows x 64 columns]\n"
          ]
        }
      ]
    },
    {
      "cell_type": "code",
      "source": [
        "#printing target dataframe\n",
        "print(y)"
      ],
      "metadata": {
        "colab": {
          "base_uri": "https://localhost:8080/"
        },
        "id": "zx3KAXrIGK0T",
        "outputId": "3bb6fbeb-c012-4915-b80c-dc99b32d4aa1"
      },
      "execution_count": 5,
      "outputs": [
        {
          "output_type": "stream",
          "name": "stdout",
          "text": [
            "      class\n",
            "0         0\n",
            "1         0\n",
            "2         7\n",
            "3         4\n",
            "4         6\n",
            "...     ...\n",
            "5615      9\n",
            "5616      0\n",
            "5617      8\n",
            "5618      9\n",
            "5619      8\n",
            "\n",
            "[5620 rows x 1 columns]\n"
          ]
        }
      ]
    },
    {
      "cell_type": "code",
      "source": [
        "#printing datatype\n",
        "print(type(X))"
      ],
      "metadata": {
        "colab": {
          "base_uri": "https://localhost:8080/"
        },
        "id": "ZQRUUTwQGaJm",
        "outputId": "cecb634f-8ec3-44d3-8ed1-da92ba270967"
      },
      "execution_count": 6,
      "outputs": [
        {
          "output_type": "stream",
          "name": "stdout",
          "text": [
            "<class 'pandas.core.frame.DataFrame'>\n"
          ]
        }
      ]
    },
    {
      "cell_type": "code",
      "source": [
        "print(type(y))"
      ],
      "metadata": {
        "colab": {
          "base_uri": "https://localhost:8080/"
        },
        "id": "c3j43jdBGc7I",
        "outputId": "58bc2131-6322-4594-ea59-64a19aaf5353"
      },
      "execution_count": 7,
      "outputs": [
        {
          "output_type": "stream",
          "name": "stdout",
          "text": [
            "<class 'pandas.core.frame.DataFrame'>\n"
          ]
        }
      ]
    },
    {
      "cell_type": "code",
      "source": [
        "#Finding shape\n",
        "print(X.shape)"
      ],
      "metadata": {
        "colab": {
          "base_uri": "https://localhost:8080/"
        },
        "id": "6CSpC0s5OZw5",
        "outputId": "030ac26e-ed19-4410-ed7e-179de549ed40"
      },
      "execution_count": 8,
      "outputs": [
        {
          "output_type": "stream",
          "name": "stdout",
          "text": [
            "(5620, 64)\n"
          ]
        }
      ]
    },
    {
      "cell_type": "code",
      "source": [
        "print(y.shape)"
      ],
      "metadata": {
        "colab": {
          "base_uri": "https://localhost:8080/"
        },
        "id": "MN3TQvBaOdZ8",
        "outputId": "22e643e4-698b-485e-c09b-009ce1f3c3d3"
      },
      "execution_count": 9,
      "outputs": [
        {
          "output_type": "stream",
          "name": "stdout",
          "text": [
            "(5620, 1)\n"
          ]
        }
      ]
    },
    {
      "cell_type": "code",
      "source": [
        "#Feature information\n",
        "print(X.info)"
      ],
      "metadata": {
        "colab": {
          "base_uri": "https://localhost:8080/"
        },
        "id": "Xdg0J15cOme7",
        "outputId": "f3db9eb6-8d7e-4a99-9381-5ff088606a8f"
      },
      "execution_count": 10,
      "outputs": [
        {
          "output_type": "stream",
          "name": "stdout",
          "text": [
            "<bound method DataFrame.info of       Attribute1  Attribute2  Attribute3  Attribute4  Attribute5  Attribute6  \\\n",
            "0              0           1           6          15          12           1   \n",
            "1              0           0          10          16           6           0   \n",
            "2              0           0           8          15          16          13   \n",
            "3              0           0           0           3          11          16   \n",
            "4              0           0           5          14           4           0   \n",
            "...          ...         ...         ...         ...         ...         ...   \n",
            "5615           0           0           4          10          13           6   \n",
            "5616           0           0           6          16          13          11   \n",
            "5617           0           0           1          11          15           1   \n",
            "5618           0           0           2          10           7           0   \n",
            "5619           0           0          10          14           8           1   \n",
            "\n",
            "      Attribute7  Attribute8  Attribute9  Attribute10  ...  Attribute55  \\\n",
            "0              0           0           0            7  ...            0   \n",
            "1              0           0           0            7  ...            3   \n",
            "2              0           0           0            1  ...            0   \n",
            "3              0           0           0            0  ...            0   \n",
            "4              0           0           0            0  ...           12   \n",
            "...          ...         ...         ...          ...  ...          ...   \n",
            "5615           0           0           0            1  ...            4   \n",
            "5616           1           0           0            0  ...            1   \n",
            "5617           0           0           0            0  ...            0   \n",
            "5618           0           0           0            0  ...            2   \n",
            "5619           0           0           0            2  ...            8   \n",
            "\n",
            "      Attribute56  Attribute57  Attribute58  Attribute59  Attribute60  \\\n",
            "0               0            0            0            6           14   \n",
            "1               0            0            0           10           16   \n",
            "2               0            0            0            9           14   \n",
            "3               0            0            0            0            1   \n",
            "4               0            0            0            4           12   \n",
            "...           ...          ...          ...          ...          ...   \n",
            "5615            0            0            0            2           14   \n",
            "5616            0            0            0            6           16   \n",
            "5617            0            0            0            2            9   \n",
            "5618            0            0            0            5           12   \n",
            "5619            0            0            1            8           12   \n",
            "\n",
            "      Attribute61  Attribute62  Attribute63  Attribute64  \n",
            "0               7            1            0            0  \n",
            "1              15            3            0            0  \n",
            "2               0            0            0            0  \n",
            "3              15            2            0            0  \n",
            "4              14            7            0            0  \n",
            "...           ...          ...          ...          ...  \n",
            "5615           15            9            0            0  \n",
            "5616           14            6            0            0  \n",
            "5617           13            6            0            0  \n",
            "5618           16           12            0            0  \n",
            "5619           14           12            1            0  \n",
            "\n",
            "[5620 rows x 64 columns]>\n"
          ]
        }
      ]
    },
    {
      "cell_type": "code",
      "source": [
        "#Spliting the dataset for training and testing\n",
        "X_train, X_test, y_train, y_test = train_test_split(X, y, test_size=0.2, random_state=42)"
      ],
      "metadata": {
        "id": "Oc57-NV6g0Rq"
      },
      "execution_count": 11,
      "outputs": []
    },
    {
      "cell_type": "markdown",
      "source": [
        "**Data reshaping**"
      ],
      "metadata": {
        "id": "iGQRXxoLofk3"
      }
    },
    {
      "cell_type": "code",
      "source": [
        "#Data reshaping\n",
        "X_train = X_train.values.reshape(-1, 8, 8, 1) / 255.0\n",
        "X_test = X_test.values.reshape(-1, 8, 8, 1) / 255.0\n",
        "y_train = to_categorical(y_train)\n",
        "y_test = to_categorical(y_test)"
      ],
      "metadata": {
        "id": "VLmRKkoYg6Gv"
      },
      "execution_count": 12,
      "outputs": []
    },
    {
      "cell_type": "code",
      "source": [
        "# Sample image\n",
        "sample_image = X_train[0].reshape(8, 8)\n",
        "plt.figure(figsize=(3, 3))\n",
        "plt.imshow(sample_image, cmap='gray')\n",
        "plt.show()"
      ],
      "metadata": {
        "colab": {
          "base_uri": "https://localhost:8080/",
          "height": 291
        },
        "id": "NJCDG251g8_V",
        "outputId": "f8b6275c-589a-4dd8-c4cf-e4ffc38c9681"
      },
      "execution_count": 13,
      "outputs": [
        {
          "output_type": "display_data",
          "data": {
            "text/plain": [
              "<Figure size 300x300 with 1 Axes>"
            ],
            "image/png": "[encoded data removed]"
          },
          "metadata": {}
        }
      ]
    },
    {
      "cell_type": "markdown",
      "source": [
        "# **CNN Architecture**"
      ],
      "metadata": {
        "id": "fcWueHMiolTz"
      }
    },
    {
      "cell_type": "code",
      "source": [
        "#Defining CNN architecture with activation Relu and softmax\n",
        "model = Sequential([\n",
        "    Conv2D(32, (3, 3), activation='relu', input_shape=(8, 8, 1)),\n",
        "    MaxPooling2D((1, 1)),\n",
        "    Conv2D(64, (3, 3), activation='relu'),\n",
        "    MaxPooling2D((1, 1)),\n",
        "    Conv2D(128, (3, 3), activation='relu'),\n",
        "    Flatten(),\n",
        "    Dense(128, activation='relu'),\n",
        "    Dense(10, activation='softmax')\n",
        "])"
      ],
      "metadata": {
        "id": "tEBTHLuOg_qE"
      },
      "execution_count": 14,
      "outputs": []
    },
    {
      "cell_type": "code",
      "source": [
        "# Visualizing model architecture\n",
        "model.summary()"
      ],
      "metadata": {
        "colab": {
          "base_uri": "https://localhost:8080/"
        },
        "id": "jBKW5BrQhCIw",
        "outputId": "ffee1a6e-2a9c-4a66-ee34-1532aa807a05"
      },
      "execution_count": 15,
      "outputs": [
        {
          "output_type": "stream",
          "name": "stdout",
          "text": [
            "Model: \"sequential\"\n",
            "_________________________________________________________________\n",
            " Layer (type)                Output Shape              Param #   \n",
            "=================================================================\n",
            " conv2d (Conv2D)             (None, 6, 6, 32)          320       \n",
            "                                                                 \n",
            " max_pooling2d (MaxPooling2  (None, 6, 6, 32)          0         \n",
            " D)                                                              \n",
            "                                                                 \n",
            " conv2d_1 (Conv2D)           (None, 4, 4, 64)          18496     \n",
            "                                                                 \n",
            " max_pooling2d_1 (MaxPoolin  (None, 4, 4, 64)          0         \n",
            " g2D)                                                            \n",
            "                                                                 \n",
            " conv2d_2 (Conv2D)           (None, 2, 2, 128)         73856     \n",
            "                                                                 \n",
            " flatten (Flatten)           (None, 512)               0         \n",
            "                                                                 \n",
            " dense (Dense)               (None, 128)               65664     \n",
            "                                                                 \n",
            " dense_1 (Dense)             (None, 10)                1290      \n",
            "                                                                 \n",
            "=================================================================\n",
            "Total params: 159626 (623.54 KB)\n",
            "Trainable params: 159626 (623.54 KB)\n",
            "Non-trainable params: 0 (0.00 Byte)\n",
            "_________________________________________________________________\n"
          ]
        }
      ]
    },
    {
      "cell_type": "code",
      "source": [
        "# Visualizing max pooling\n",
        "plt.figure(figsize=(3, 3))\n",
        "plt.imshow(X_train[0, :, :, 0], cmap='gray')\n",
        "plt.axis('off')\n",
        "plt.show()"
      ],
      "metadata": {
        "colab": {
          "base_uri": "https://localhost:8080/",
          "height": 268
        },
        "id": "QrbulIjWipxP",
        "outputId": "2a54b25d-f9fa-4d96-ce1b-df87b16c1ea3"
      },
      "execution_count": 16,
      "outputs": [
        {
          "output_type": "display_data",
          "data": {
            "text/plain": [
              "<Figure size 300x300 with 1 Axes>"
            ],
            "image/png": "[encoded data removed]"
          },
          "metadata": {}
        }
      ]
    },
    {
      "cell_type": "markdown",
      "source": [
        "# **Model Training**"
      ],
      "metadata": {
        "id": "jrD7cY0OowHs"
      }
    },
    {
      "cell_type": "code",
      "source": [
        "# training the model using adam optimizer\n",
        "model.compile(optimizer='adam', loss='categorical_crossentropy', metrics=['accuracy'])\n",
        "history = model.fit(X_train, y_train, epochs=10, validation_data=(X_test, y_test))"
      ],
      "metadata": {
        "colab": {
          "base_uri": "https://localhost:8080/"
        },
        "id": "flw2ZpRXis6v",
        "outputId": "cf0c3e74-49b3-4de9-e164-b2b7f310fd79"
      },
      "execution_count": 17,
      "outputs": [
        {
          "output_type": "stream",
          "name": "stdout",
          "text": [
            "Epoch 1/10\n",
            "141/141 [==============================] - 7s 33ms/step - loss: 1.1332 - accuracy: 0.6444 - val_loss: 0.5251 - val_accuracy: 0.8674\n",
            "Epoch 2/10\n",
            "141/141 [==============================] - 3s 23ms/step - loss: 0.3829 - accuracy: 0.8819 - val_loss: 0.3782 - val_accuracy: 0.8906\n",
            "Epoch 3/10\n",
            "141/141 [==============================] - 3s 22ms/step - loss: 0.2623 - accuracy: 0.9177 - val_loss: 0.2497 - val_accuracy: 0.9262\n",
            "Epoch 4/10\n",
            "141/141 [==============================] - 4s 29ms/step - loss: 0.1790 - accuracy: 0.9455 - val_loss: 0.2131 - val_accuracy: 0.9333\n",
            "Epoch 5/10\n",
            "141/141 [==============================] - 4s 27ms/step - loss: 0.1493 - accuracy: 0.9515 - val_loss: 0.1651 - val_accuracy: 0.9555\n",
            "Epoch 6/10\n",
            "141/141 [==============================] - 3s 22ms/step - loss: 0.1153 - accuracy: 0.9615 - val_loss: 0.1648 - val_accuracy: 0.9484\n",
            "Epoch 7/10\n",
            "141/141 [==============================] - 3s 24ms/step - loss: 0.0924 - accuracy: 0.9738 - val_loss: 0.1262 - val_accuracy: 0.9644\n",
            "Epoch 8/10\n",
            "141/141 [==============================] - 4s 28ms/step - loss: 0.0849 - accuracy: 0.9720 - val_loss: 0.1265 - val_accuracy: 0.9644\n",
            "Epoch 9/10\n",
            "141/141 [==============================] - 4s 28ms/step - loss: 0.0752 - accuracy: 0.9760 - val_loss: 0.1322 - val_accuracy: 0.9644\n",
            "Epoch 10/10\n",
            "141/141 [==============================] - 3s 22ms/step - loss: 0.0685 - accuracy: 0.9784 - val_loss: 0.1146 - val_accuracy: 0.9689\n"
          ]
        }
      ]
    },
    {
      "cell_type": "markdown",
      "source": [
        "# **Model Evaluation**"
      ],
      "metadata": {
        "id": "UsKftt4io3eJ"
      }
    },
    {
      "cell_type": "code",
      "source": [
        "# Model accuracy\n",
        "test_loss, test_acc = model.evaluate(X_test, y_test)\n",
        "print(f'Test accuracy: {test_acc:.4f}')"
      ],
      "metadata": {
        "colab": {
          "base_uri": "https://localhost:8080/"
        },
        "id": "Oeh3mzgQix83",
        "outputId": "fc280d5e-1f2a-42f8-c89d-24e6157287ff"
      },
      "execution_count": 18,
      "outputs": [
        {
          "output_type": "stream",
          "name": "stdout",
          "text": [
            "36/36 [==============================] - 0s 4ms/step - loss: 0.1146 - accuracy: 0.9689\n",
            "Test accuracy: 0.9689\n"
          ]
        }
      ]
    },
    {
      "cell_type": "code",
      "source": [
        "# plotting training vs validation loss\n",
        "plt.figure(figsize=(6, 4))\n",
        "plt.plot(history.history['loss'], label='Training Loss')\n",
        "plt.plot(history.history['val_loss'], label='Validation Loss')\n",
        "plt.title('Training and Validation Loss')\n",
        "plt.xlabel('Epochs')\n",
        "plt.ylabel('Loss')\n",
        "plt.legend()\n",
        "plt.show()"
      ],
      "metadata": {
        "colab": {
          "base_uri": "https://localhost:8080/",
          "height": 410
        },
        "id": "SZs5HKc_jAPp",
        "outputId": "83e206d3-f586-4f1c-8343-3f1710f63458"
      },
      "execution_count": 19,
      "outputs": [
        {
          "output_type": "display_data",
          "data": {
            "text/plain": [
              "<Figure size 600x400 with 1 Axes>"
            ],
            "image/png": "[encoded data removed]"
          },
          "metadata": {}
        }
      ]
    },
    {
      "cell_type": "code",
      "source": [
        "#plotting training vs validation accuracy\n",
        "plt.figure(figsize=(6, 4))\n",
        "plt.plot(history.history['accuracy'], label='Training Accuracy')\n",
        "plt.plot(history.history['val_accuracy'], label='Validation Accuracy')\n",
        "plt.title('Training and Validation Accuracy')\n",
        "plt.xlabel('Epochs')\n",
        "plt.ylabel('Accuracy')\n",
        "plt.legend()\n",
        "plt.show()"
      ],
      "metadata": {
        "colab": {
          "base_uri": "https://localhost:8080/",
          "height": 410
        },
        "id": "NYliI7VNjFDb",
        "outputId": "c179a3cd-7280-45d9-cdbf-91f4430367ef"
      },
      "execution_count": 20,
      "outputs": [
        {
          "output_type": "display_data",
          "data": {
            "text/plain": [
              "<Figure size 600x400 with 1 Axes>"
            ],
            "image/png": "[encoded data removed]"
          },
          "metadata": {}
        }
      ]
    },
    {
      "cell_type": "markdown",
      "source": [
        "# **K-Fold cross validation**"
      ],
      "metadata": {
        "id": "4To-xtroo_IR"
      }
    },
    {
      "cell_type": "code",
      "source": [
        "# K-Fold cross validation\n",
        "!pip install scikit-learn\n",
        "import sklearn.model_selection as ms\n",
        "kfold = ms.KFold(n_splits=5, shuffle=True, random_state=42)\n",
        "fold_accuracies = []\n",
        "for train_idx, val_idx in kfold.split(X_train, y_train):\n",
        "    X_train_fold, X_val_fold = X_train[train_idx], X_train[val_idx]\n",
        "    y_train_fold, y_val_fold = y_train[train_idx], y_train[val_idx]\n",
        "\n",
        "    model.fit(X_train_fold, y_train_fold, epochs=5, validation_data=(X_val_fold, y_val_fold), verbose=0)\n",
        "    val_acc = model.evaluate(X_val_fold, y_val_fold, verbose=0)[1]\n",
        "    fold_accuracies.append(val_acc)\n"
      ],
      "metadata": {
        "colab": {
          "base_uri": "https://localhost:8080/"
        },
        "id": "qv6sPnY7jIfc",
        "outputId": "df39d2d8-17df-4878-89f7-665e36046357"
      },
      "execution_count": 21,
      "outputs": [
        {
          "output_type": "stream",
          "name": "stdout",
          "text": [
            "Requirement already satisfied: scikit-learn in /usr/local/lib/python3.10/dist-packages (1.2.2)\n",
            "Requirement already satisfied: numpy>=1.17.3 in /usr/local/lib/python3.10/dist-packages (from scikit-learn) (1.25.2)\n",
            "Requirement already satisfied: scipy>=1.3.2 in /usr/local/lib/python3.10/dist-packages (from scikit-learn) (1.11.4)\n",
            "Requirement already satisfied: joblib>=1.1.1 in /usr/local/lib/python3.10/dist-packages (from scikit-learn) (1.4.0)\n",
            "Requirement already satisfied: threadpoolctl>=2.0.0 in /usr/local/lib/python3.10/dist-packages (from scikit-learn) (3.4.0)\n"
          ]
        }
      ]
    },
    {
      "cell_type": "code",
      "source": [
        "#fold wise accuracies\n",
        "print(fold_accuracies)"
      ],
      "metadata": {
        "colab": {
          "base_uri": "https://localhost:8080/"
        },
        "id": "L3C7guWMI20B",
        "outputId": "1b9f49b3-6722-4bb6-9b1b-b26ddda939a5"
      },
      "execution_count": 22,
      "outputs": [
        {
          "output_type": "stream",
          "name": "stdout",
          "text": [
            "[0.9855555295944214, 0.9855394959449768, 0.9877641797065735, 0.9855394959449768, 1.0]\n"
          ]
        }
      ]
    },
    {
      "cell_type": "code",
      "source": [
        "#K-Fold mean accuracy\n",
        "print(\"K-Fold Cross-Validation Accuracy: \",np.mean(fold_accuracies))"
      ],
      "metadata": {
        "colab": {
          "base_uri": "https://localhost:8080/"
        },
        "id": "C4Ye2FFaJgw4",
        "outputId": "c9f64b89-3203-4dcc-cc68-25ad8dbd6d5e"
      },
      "execution_count": 23,
      "outputs": [
        {
          "output_type": "stream",
          "name": "stdout",
          "text": [
            "K-Fold Cross-Validation Accuracy:  0.9888797402381897\n"
          ]
        }
      ]
    },
    {
      "cell_type": "markdown",
      "source": [
        "# **Confusion matrix**"
      ],
      "metadata": {
        "id": "OPjl06qdpPE8"
      }
    },
    {
      "cell_type": "code",
      "source": [
        "#Confusion matrix\n",
        "from sklearn.metrics import confusion_matrix\n",
        "import seaborn as sns\n",
        "y_pred = model.predict(X_test)\n",
        "y_pred = np.argmax(y_pred, axis=1)\n",
        "y_true = np.argmax(y_test, axis=1)\n",
        "conf_mat = confusion_matrix(y_true, y_pred)\n",
        "plt.figure(figsize=(6, 4))\n",
        "sns.heatmap(conf_mat, annot=True, cmap='Blues', fmt='g')\n",
        "plt.title('Confusion Matrix')\n",
        "plt.xlabel('Predicted')\n",
        "plt.ylabel('Actual')\n",
        "plt.show()"
      ],
      "metadata": {
        "colab": {
          "base_uri": "https://localhost:8080/",
          "height": 427
        },
        "id": "QwEL3IeSjM0r",
        "outputId": "f4bf2fa0-c997-40cf-8781-894797360b8c"
      },
      "execution_count": 24,
      "outputs": [
        {
          "output_type": "stream",
          "name": "stdout",
          "text": [
            "36/36 [==============================] - 0s 7ms/step\n"
          ]
        },
        {
          "output_type": "display_data",
          "data": {
            "text/plain": [
              "<Figure size 600x400 with 2 Axes>"
            ],
            "image/png": "[encoded data removed]"
          },
          "metadata": {}
        }
      ]
    },
    {
      "cell_type": "code",
      "source": [
        "# Model metrics\n",
        "from sklearn.metrics import accuracy_score, precision_score,recall_score, f1_score\n",
        "accuracy = accuracy_score(y_true, y_pred)\n",
        "precision = precision_score(y_true, y_pred, average='macro')\n",
        "recall = recall_score(y_true,y_pred, average='macro')\n",
        "f1 = f1_score(y_true, y_pred, average='macro')\n",
        "\n",
        "print(f'Accuracy: {accuracy:.4f}')\n",
        "print(f'Precision: {precision:.4f}')\n",
        "print(f'Recall: {recall:.4f}')\n",
        "print(f'F1-score: {f1:.4f}')"
      ],
      "metadata": {
        "colab": {
          "base_uri": "https://localhost:8080/"
        },
        "id": "4W21T2sWjtIa",
        "outputId": "1f70ea6f-4f81-4f84-faea-e5c01fa0d657"
      },
      "execution_count": 28,
      "outputs": [
        {
          "output_type": "stream",
          "name": "stdout",
          "text": [
            "Accuracy: 0.9733\n",
            "Precision: 0.9729\n",
            "Recall: 0.9729\n",
            "F1-score: 0.9728\n"
          ]
        }
      ]
    },
    {
      "cell_type": "code",
      "source": [
        "# Visualizing metrics\n",
        "metrics = ['Accuracy', 'Precision', 'Recall']\n",
        "values = [accuracy, precision, recall]\n",
        "colors = ['tab:blue', 'tab:orange', 'tab:green']\n",
        "plt.figure(figsize=(6, 4))\n",
        "plt.bar(metrics, values, color=colors)\n",
        "plt.ylim(0, 1.1)\n",
        "plt.title('Performance Metrics')\n",
        "plt.ylabel('Score')\n",
        "plt.show()"
      ],
      "metadata": {
        "colab": {
          "base_uri": "https://localhost:8080/",
          "height": 391
        },
        "id": "6461DZQ0K358",
        "outputId": "993bb0d7-d9d2-4860-ed86-e26c5f6e34e0"
      },
      "execution_count": 30,
      "outputs": [
        {
          "output_type": "display_data",
          "data": {
            "text/plain": [
              "<Figure size 600x400 with 1 Axes>"
            ],
            "image/png": "[encoded data removed]"
          },
          "metadata": {}
        }
      ]
    },
    {
      "cell_type": "code",
      "source": [],
      "metadata": {
        "id": "dG63kqg7K8Ue"
      },
      "execution_count": 26,
      "outputs": []
    }
  ]
}